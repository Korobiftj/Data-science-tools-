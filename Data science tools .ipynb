{
 "cells": [
  {
   "cell_type": "markdown",
   "id": "923ca7a2",
   "metadata": {},
   "source": [
    "# Data Science Tools and Ecosystem"
   ]
  },
  {
   "cell_type": "markdown",
   "id": "75e36351",
   "metadata": {},
   "source": [
    "In this notebook, Data Science Tools and Ecosystem are summarized"
   ]
  },
  {
   "cell_type": "markdown",
   "id": "cca99b4a",
   "metadata": {},
   "source": [
    "__Objectives__\n",
    "- list popular languages for data science\n",
    "- list popular librarys for data science\n",
    "- list of data science tools\n",
    "- example of arithmetic expressions"
   ]
  },
  {
   "cell_type": "markdown",
   "id": "3cdcc0f1",
   "metadata": {},
   "source": [
    "## Some of the popular languages that Data Scientists use are:\n",
    "1. Python\n",
    "2. R\n",
    "3. SQL\n",
    "4. Java\n"
   ]
  },
  {
   "cell_type": "markdown",
   "id": "7687ce08",
   "metadata": {},
   "source": [
    "## Some of the commonly used libraries used by Data Scientists include:\n",
    "\n",
    "1.TensorFlow.\n",
    "\n",
    "2.NumPy.\n",
    "\n",
    "3.SciPy.\n",
    "\n",
    "4.Pandas.\n",
    "\n",
    "5.Matplotlib."
   ]
  },
  {
   "cell_type": "markdown",
   "id": "93c3facc",
   "metadata": {},
   "source": [
    "| Data science tools |\n",
    "| ------------------ |\n",
    "| Rstudio            |\n",
    "| Apache Spark       |\n",
    "| Tensor Flow        |"
   ]
  },
  {
   "cell_type": "markdown",
   "id": "b8edf50e",
   "metadata": {},
   "source": [
    "\n",
    "### Below are a few examples of evaluating arithmetic expressions in Python\n"
   ]
  },
  {
   "cell_type": "code",
   "execution_count": 6,
   "id": "0066c91b",
   "metadata": {},
   "outputs": [
    {
     "data": {
      "text/plain": [
       "17"
      ]
     },
     "execution_count": 6,
     "metadata": {},
     "output_type": "execute_result"
    }
   ],
   "source": [
    "#This a simple arithmetic expression to mutiply then add integers\n",
    "(3*4)+5"
   ]
  },
  {
   "cell_type": "code",
   "execution_count": 8,
   "id": "d32eb8c6",
   "metadata": {},
   "outputs": [
    {
     "name": "stdout",
     "output_type": "stream",
     "text": [
      "3.3333333333333335\n"
     ]
    }
   ],
   "source": [
    "#This will convert 200 minutes to hours by diving by 60\n",
    "minutes = 200\n",
    "hours = minutes/60\n",
    "print(hours)"
   ]
  },
  {
   "cell_type": "markdown",
   "id": "480165e9",
   "metadata": {},
   "source": [
    "## Author\n",
    "Fatema Tuj Johora Korobi"
   ]
  },
  {
   "cell_type": "code",
   "execution_count": null,
   "id": "489e7fec",
   "metadata": {},
   "outputs": [],
   "source": []
  }
 ],
 "metadata": {
  "kernelspec": {
   "display_name": "Python 3 (ipykernel)",
   "language": "python",
   "name": "python3"
  },
  "language_info": {
   "codemirror_mode": {
    "name": "ipython",
    "version": 3
   },
   "file_extension": ".py",
   "mimetype": "text/x-python",
   "name": "python",
   "nbconvert_exporter": "python",
   "pygments_lexer": "ipython3",
   "version": "3.9.13"
  }
 },
 "nbformat": 4,
 "nbformat_minor": 5
}
